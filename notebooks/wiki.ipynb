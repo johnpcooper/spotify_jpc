{
 "cells": [
  {
   "cell_type": "markdown",
   "metadata": {},
   "source": [
    "## spotify_jpc\n",
    "\n",
    "This a package is essentially a set of wrappers around the spotify python api package [spotipy](https://spotipy.readthedocs.io/en/2.12.0/#). spotify_jpc faciliates command line scripting with autohotkey, letting me create hotkeys to get spotify search results, control playback, and manage playlist content, etc."
   ]
  },
  {
   "cell_type": "markdown",
   "metadata": {},
   "source": [
    "### Utilities (utilities.py)"
   ]
  },
  {
   "cell_type": "code",
   "execution_count": null,
   "metadata": {},
   "outputs": [],
   "source": [
    "from spotify_jpc import utilities\n",
    "# Most functions I've written that instatiate a client or user\n",
    "# spotify object will include the set_env_vars line to make sure \n",
    "# that python knows my client_id and other params stored in \n",
    "# constants.py\n",
    "\n",
    "# Get the first track uri returned in search for clipboard\n",
    "clipboard_uri = utilities.get_clipboard_uri()"
   ]
  },
  {
   "cell_type": "markdown",
   "metadata": {},
   "source": [
    "#### Find the release date using a track uri"
   ]
  },
  {
   "cell_type": "code",
   "execution_count": null,
   "metadata": {},
   "outputs": [],
   "source": [
    "from importlib import reload\n",
    "reload(utilities)\n",
    "\n",
    "release_date = utilities.get_track_release_dt(\"spotify:track:5crOeBNDOdscqBIdwMre8I\")\n",
    "print(release_date)"
   ]
  },
  {
   "cell_type": "markdown",
   "metadata": {},
   "source": [
    "### Playback tools (playback.py)"
   ]
  },
  {
   "cell_type": "markdown",
   "metadata": {},
   "source": [
    "#### Search spotify for whatever's on the os clipboard and play the first track in results"
   ]
  },
  {
   "cell_type": "code",
   "execution_count": 146,
   "metadata": {},
   "outputs": [
    {
     "name": "stdout",
     "output_type": "stream",
     "text": [
      "Found track_uri: spotify:track:42rFN4jCXtSYIJ7Yl8l4gB\n",
      "Track name: Mick Jagger\n",
      "for query: Baked  “Mick Jagger”\n",
      "Playing track\n"
     ]
    }
   ],
   "source": [
    "from spotify_jpc import playback\n",
    "\n",
    "playback.play_clipboard()"
   ]
  },
  {
   "cell_type": "markdown",
   "metadata": {},
   "source": [
    "#### Get the currently playing track"
   ]
  },
  {
   "cell_type": "code",
   "execution_count": 247,
   "metadata": {},
   "outputs": [],
   "source": [
    "from spotify_jpc import playback\n",
    "track = playback.get_current_track()"
   ]
  },
  {
   "cell_type": "markdown",
   "metadata": {},
   "source": [
    "### Playlist tools (playlist.py)"
   ]
  },
  {
   "cell_type": "markdown",
   "metadata": {},
   "source": [
    "#### Add the currently playing track to the singles playlist for its release month"
   ]
  },
  {
   "cell_type": "code",
   "execution_count": 248,
   "metadata": {},
   "outputs": [],
   "source": [
    "from spotify_jpc import playlist\n",
    "playlist.add_current_track_to_playlist()"
   ]
  },
  {
   "cell_type": "markdown",
   "metadata": {},
   "source": [
    "#### Make a dataframe of the user's playlists including tracks. Limited by spotify api to 50 top playlists (ones organized in folders closest to top)"
   ]
  },
  {
   "cell_type": "code",
   "execution_count": 34,
   "metadata": {},
   "outputs": [
    {
     "name": "stdout",
     "output_type": "stream",
     "text": [
      "Making playlist DataFrame 50 of 50\r"
     ]
    },
    {
     "data": {
      "text/html": [
       "<div>\n",
       "<style scoped>\n",
       "    .dataframe tbody tr th:only-of-type {\n",
       "        vertical-align: middle;\n",
       "    }\n",
       "\n",
       "    .dataframe tbody tr th {\n",
       "        vertical-align: top;\n",
       "    }\n",
       "\n",
       "    .dataframe thead th {\n",
       "        text-align: right;\n",
       "    }\n",
       "</style>\n",
       "<table border=\"1\" class=\"dataframe\">\n",
       "  <thead>\n",
       "    <tr style=\"text-align: right;\">\n",
       "      <th></th>\n",
       "      <th>name</th>\n",
       "      <th>uri</th>\n",
       "      <th>id</th>\n",
       "      <th>track_name</th>\n",
       "      <th>track_uri</th>\n",
       "      <th>track_id</th>\n",
       "      <th>track_artist_name</th>\n",
       "      <th>track_artist_id</th>\n",
       "      <th>track_release_date</th>\n",
       "    </tr>\n",
       "  </thead>\n",
       "  <tbody>\n",
       "    <tr>\n",
       "      <th>0</th>\n",
       "      <td>2020 06 N2MG@@O</td>\n",
       "      <td>spotify:playlist:7HirIHPB7NPmvnFiIwnwaR</td>\n",
       "      <td>7HirIHPB7NPmvnFiIwnwaR</td>\n",
       "      <td>Chromatica I</td>\n",
       "      <td>spotify:track:3CGZ7wfk4skmuyQgua1C1K</td>\n",
       "      <td>3CGZ7wfk4skmuyQgua1C1K</td>\n",
       "      <td>Lady Gaga</td>\n",
       "      <td>1HY2Jd0NmPuamShAr6KMms</td>\n",
       "      <td>2020-05-29</td>\n",
       "    </tr>\n",
       "    <tr>\n",
       "      <th>1</th>\n",
       "      <td>2020 06 N2MG@@O</td>\n",
       "      <td>spotify:playlist:7HirIHPB7NPmvnFiIwnwaR</td>\n",
       "      <td>7HirIHPB7NPmvnFiIwnwaR</td>\n",
       "      <td>Intro</td>\n",
       "      <td>spotify:track:0lOFtFDflbbVY8Fbhy4K85</td>\n",
       "      <td>0lOFtFDflbbVY8Fbhy4K85</td>\n",
       "      <td>Kamaiyah</td>\n",
       "      <td>3XVpDdKav6C6zwlDXPhMEO</td>\n",
       "      <td>2020-02-21</td>\n",
       "    </tr>\n",
       "    <tr>\n",
       "      <th>2</th>\n",
       "      <td>2020 06 N2MG@@O</td>\n",
       "      <td>spotify:playlist:7HirIHPB7NPmvnFiIwnwaR</td>\n",
       "      <td>7HirIHPB7NPmvnFiIwnwaR</td>\n",
       "      <td>The 1975</td>\n",
       "      <td>spotify:track:0YtmwGMUPaBIEuJs0FNiDm</td>\n",
       "      <td>0YtmwGMUPaBIEuJs0FNiDm</td>\n",
       "      <td>The 1975</td>\n",
       "      <td>3mIj9lX2MWuHmhNCA7LSCW</td>\n",
       "      <td>2020-05-22</td>\n",
       "    </tr>\n",
       "    <tr>\n",
       "      <th>3</th>\n",
       "      <td>2020 06 N2MG@@O</td>\n",
       "      <td>spotify:playlist:7HirIHPB7NPmvnFiIwnwaR</td>\n",
       "      <td>7HirIHPB7NPmvnFiIwnwaR</td>\n",
       "      <td>Sleep On The Wing</td>\n",
       "      <td>spotify:track:6A6ELFKSmU4Sgnfem0SyRd</td>\n",
       "      <td>6A6ELFKSmU4Sgnfem0SyRd</td>\n",
       "      <td>Bibio</td>\n",
       "      <td>0qzzGu8qpbXYpzgV52wOFT</td>\n",
       "      <td>2020-06-12</td>\n",
       "    </tr>\n",
       "    <tr>\n",
       "      <th>4</th>\n",
       "      <td>2020 06 N2MG@@O</td>\n",
       "      <td>spotify:playlist:7HirIHPB7NPmvnFiIwnwaR</td>\n",
       "      <td>7HirIHPB7NPmvnFiIwnwaR</td>\n",
       "      <td>yankee and the brave (ep. 4)</td>\n",
       "      <td>spotify:track:1EjzcBTVLV7ATtdsQwyV31</td>\n",
       "      <td>1EjzcBTVLV7ATtdsQwyV31</td>\n",
       "      <td>Run The Jewels</td>\n",
       "      <td>4RnBFZRiMLRyZy0AzzTg2C</td>\n",
       "      <td>2020-06-03</td>\n",
       "    </tr>\n",
       "  </tbody>\n",
       "</table>\n",
       "</div>"
      ],
      "text/plain": [
       "              name                                      uri  \\\n",
       "0  2020 06 N2MG@@O  spotify:playlist:7HirIHPB7NPmvnFiIwnwaR   \n",
       "1  2020 06 N2MG@@O  spotify:playlist:7HirIHPB7NPmvnFiIwnwaR   \n",
       "2  2020 06 N2MG@@O  spotify:playlist:7HirIHPB7NPmvnFiIwnwaR   \n",
       "3  2020 06 N2MG@@O  spotify:playlist:7HirIHPB7NPmvnFiIwnwaR   \n",
       "4  2020 06 N2MG@@O  spotify:playlist:7HirIHPB7NPmvnFiIwnwaR   \n",
       "\n",
       "                       id                    track_name  \\\n",
       "0  7HirIHPB7NPmvnFiIwnwaR                  Chromatica I   \n",
       "1  7HirIHPB7NPmvnFiIwnwaR                         Intro   \n",
       "2  7HirIHPB7NPmvnFiIwnwaR                      The 1975   \n",
       "3  7HirIHPB7NPmvnFiIwnwaR             Sleep On The Wing   \n",
       "4  7HirIHPB7NPmvnFiIwnwaR  yankee and the brave (ep. 4)   \n",
       "\n",
       "                              track_uri                track_id  \\\n",
       "0  spotify:track:3CGZ7wfk4skmuyQgua1C1K  3CGZ7wfk4skmuyQgua1C1K   \n",
       "1  spotify:track:0lOFtFDflbbVY8Fbhy4K85  0lOFtFDflbbVY8Fbhy4K85   \n",
       "2  spotify:track:0YtmwGMUPaBIEuJs0FNiDm  0YtmwGMUPaBIEuJs0FNiDm   \n",
       "3  spotify:track:6A6ELFKSmU4Sgnfem0SyRd  6A6ELFKSmU4Sgnfem0SyRd   \n",
       "4  spotify:track:1EjzcBTVLV7ATtdsQwyV31  1EjzcBTVLV7ATtdsQwyV31   \n",
       "\n",
       "  track_artist_name         track_artist_id track_release_date  \n",
       "0         Lady Gaga  1HY2Jd0NmPuamShAr6KMms         2020-05-29  \n",
       "1          Kamaiyah  3XVpDdKav6C6zwlDXPhMEO         2020-02-21  \n",
       "2          The 1975  3mIj9lX2MWuHmhNCA7LSCW         2020-05-22  \n",
       "3             Bibio  0qzzGu8qpbXYpzgV52wOFT         2020-06-12  \n",
       "4    Run The Jewels  4RnBFZRiMLRyZy0AzzTg2C         2020-06-03  "
      ]
     },
     "execution_count": 34,
     "metadata": {},
     "output_type": "execute_result"
    }
   ],
   "source": [
    "from spotify_jpc import playlist\n",
    "from importlib import reload\n",
    "reload(playlist)\n",
    "\n",
    "pldf = playlist.make_playlists_df()\n",
    "pldf.head()"
   ]
  },
  {
   "cell_type": "markdown",
   "metadata": {},
   "source": [
    "#### Update playlist database with the 50 user playlists organized at top. \n",
    "Adds playlist name, uri, and id. This database can be used to more easily get playlists by name."
   ]
  },
  {
   "cell_type": "code",
   "execution_count": 143,
   "metadata": {},
   "outputs": [],
   "source": [
    "from spotify_jpc import playlist\n",
    "playlist.update_database()"
   ]
  },
  {
   "cell_type": "code",
   "execution_count": 144,
   "metadata": {},
   "outputs": [
    {
     "data": {
      "text/html": [
       "<div>\n",
       "<style scoped>\n",
       "    .dataframe tbody tr th:only-of-type {\n",
       "        vertical-align: middle;\n",
       "    }\n",
       "\n",
       "    .dataframe tbody tr th {\n",
       "        vertical-align: top;\n",
       "    }\n",
       "\n",
       "    .dataframe thead th {\n",
       "        text-align: right;\n",
       "    }\n",
       "</style>\n",
       "<table border=\"1\" class=\"dataframe\">\n",
       "  <thead>\n",
       "    <tr style=\"text-align: right;\">\n",
       "      <th></th>\n",
       "      <th>name</th>\n",
       "      <th>uri</th>\n",
       "      <th>id</th>\n",
       "    </tr>\n",
       "  </thead>\n",
       "  <tbody>\n",
       "    <tr>\n",
       "      <th>0</th>\n",
       "      <td>2020 06 N2MG@@O</td>\n",
       "      <td>spotify:playlist:7HirIHPB7NPmvnFiIwnwaR</td>\n",
       "      <td>7HirIHPB7NPmvnFiIwnwaR</td>\n",
       "    </tr>\n",
       "    <tr>\n",
       "      <th>1</th>\n",
       "      <td>2020 05 N2MG@O</td>\n",
       "      <td>spotify:playlist:2ZLHsETXqlpSsJujLRwPuo</td>\n",
       "      <td>2ZLHsETXqlpSsJujLRwPuo</td>\n",
       "    </tr>\n",
       "    <tr>\n",
       "      <th>2</th>\n",
       "      <td>2020 04 N2M G@O</td>\n",
       "      <td>spotify:playlist:6RFcqh5APsKzUK1GKCuRnT</td>\n",
       "      <td>6RFcqh5APsKzUK1GKCuRnT</td>\n",
       "    </tr>\n",
       "    <tr>\n",
       "      <th>3</th>\n",
       "      <td>2020 03 N2MG@O</td>\n",
       "      <td>spotify:playlist:06IymbnqOxlNchDojTeh62</td>\n",
       "      <td>06IymbnqOxlNchDojTeh62</td>\n",
       "    </tr>\n",
       "    <tr>\n",
       "      <th>4</th>\n",
       "      <td>2020 02 N2MG@O</td>\n",
       "      <td>spotify:playlist:2z3CCtWoLCv0n5J7U7zuOK</td>\n",
       "      <td>2z3CCtWoLCv0n5J7U7zuOK</td>\n",
       "    </tr>\n",
       "  </tbody>\n",
       "</table>\n",
       "</div>"
      ],
      "text/plain": [
       "              name                                      uri  \\\n",
       "0  2020 06 N2MG@@O  spotify:playlist:7HirIHPB7NPmvnFiIwnwaR   \n",
       "1   2020 05 N2MG@O  spotify:playlist:2ZLHsETXqlpSsJujLRwPuo   \n",
       "2  2020 04 N2M G@O  spotify:playlist:6RFcqh5APsKzUK1GKCuRnT   \n",
       "3   2020 03 N2MG@O  spotify:playlist:06IymbnqOxlNchDojTeh62   \n",
       "4   2020 02 N2MG@O  spotify:playlist:2z3CCtWoLCv0n5J7U7zuOK   \n",
       "\n",
       "                       id  \n",
       "0  7HirIHPB7NPmvnFiIwnwaR  \n",
       "1  2ZLHsETXqlpSsJujLRwPuo  \n",
       "2  6RFcqh5APsKzUK1GKCuRnT  \n",
       "3  06IymbnqOxlNchDojTeh62  \n",
       "4  2z3CCtWoLCv0n5J7U7zuOK  "
      ]
     },
     "execution_count": 144,
     "metadata": {},
     "output_type": "execute_result"
    }
   ],
   "source": [
    "# Have a look at the existing database\n",
    "import pandas as pd\n",
    "from spotify_jpc import constants\n",
    "db = pd.read_csv(constants.user_vars['playlist_db_path'])\n",
    "db.head()"
   ]
  },
  {
   "cell_type": "markdown",
   "metadata": {},
   "source": [
    "#### Get user playlist by name"
   ]
  },
  {
   "cell_type": "code",
   "execution_count": 75,
   "metadata": {
    "scrolled": false
   },
   "outputs": [
    {
     "name": "stdout",
     "output_type": "stream",
     "text": [
      "First track of playlist: Saved My Life by Sia\n"
     ]
    }
   ],
   "source": [
    "from spotify_jpc import playlist\n",
    "# Look up the playlist\n",
    "pl = playlist.get_playlist_by_name(playlist_name='2020 May')\n",
    "# Find the first track on the playlist, print its\n",
    "# name and artist.\n",
    "first_track = pl['tracks']['items'][0]['track']\n",
    "print(f\"First track of playlist: {first_track['name']} by {first_track['artists'][0]['name']}\")"
   ]
  },
  {
   "cell_type": "markdown",
   "metadata": {},
   "source": [
    "#### Make a dataframe of all tracks (up to length 100, limited by spotify api) on a playlist. Playlist gotten by ID\n",
    "\n",
    "If you don't pass a playlist_id it'll just default to one of my singles playlists"
   ]
  },
  {
   "cell_type": "code",
   "execution_count": 26,
   "metadata": {},
   "outputs": [
    {
     "data": {
      "text/html": [
       "<div>\n",
       "<style scoped>\n",
       "    .dataframe tbody tr th:only-of-type {\n",
       "        vertical-align: middle;\n",
       "    }\n",
       "\n",
       "    .dataframe tbody tr th {\n",
       "        vertical-align: top;\n",
       "    }\n",
       "\n",
       "    .dataframe thead th {\n",
       "        text-align: right;\n",
       "    }\n",
       "</style>\n",
       "<table border=\"1\" class=\"dataframe\">\n",
       "  <thead>\n",
       "    <tr style=\"text-align: right;\">\n",
       "      <th></th>\n",
       "      <th>name</th>\n",
       "      <th>uri</th>\n",
       "      <th>id</th>\n",
       "      <th>artist_name</th>\n",
       "      <th>artist_id</th>\n",
       "      <th>release_date</th>\n",
       "    </tr>\n",
       "  </thead>\n",
       "  <tbody>\n",
       "    <tr>\n",
       "      <th>0</th>\n",
       "      <td>Throwing Stones</td>\n",
       "      <td>spotify:track:7mefpx8BrcYNpl7nV5Jr6h</td>\n",
       "      <td>7mefpx8BrcYNpl7nV5Jr6h</td>\n",
       "      <td>Ardyn</td>\n",
       "      <td>4Ibjhh0sibd5FrMcot5aOu</td>\n",
       "      <td>2017-08-17</td>\n",
       "    </tr>\n",
       "    <tr>\n",
       "      <th>1</th>\n",
       "      <td>Better</td>\n",
       "      <td>spotify:track:7iCbeEbIEFbCP559GvoyYL</td>\n",
       "      <td>7iCbeEbIEFbCP559GvoyYL</td>\n",
       "      <td>Mallrat</td>\n",
       "      <td>4OSArit7O2Jaj4mgf3YN7A</td>\n",
       "      <td>2017-10-13</td>\n",
       "    </tr>\n",
       "    <tr>\n",
       "      <th>2</th>\n",
       "      <td>2 Cool 2 Care</td>\n",
       "      <td>spotify:track:7678cIG4ozfGo5CnVG3YwH</td>\n",
       "      <td>7678cIG4ozfGo5CnVG3YwH</td>\n",
       "      <td>Anna Burch</td>\n",
       "      <td>26OB2jqYqL7pNslVtu4VGt</td>\n",
       "      <td>2017-10-12</td>\n",
       "    </tr>\n",
       "    <tr>\n",
       "      <th>3</th>\n",
       "      <td>I Miss That Feeling</td>\n",
       "      <td>spotify:track:42XZcWNSbZCPQarEodiHbi</td>\n",
       "      <td>42XZcWNSbZCPQarEodiHbi</td>\n",
       "      <td>Tennis</td>\n",
       "      <td>1ybAN3utgdoUL1MUCtH4QM</td>\n",
       "      <td>2017-10-06</td>\n",
       "    </tr>\n",
       "    <tr>\n",
       "      <th>4</th>\n",
       "      <td>drink i'm sippin on</td>\n",
       "      <td>spotify:track:5DmCLnojsZpi5SH2MMBDOW</td>\n",
       "      <td>5DmCLnojsZpi5SH2MMBDOW</td>\n",
       "      <td>Yaeji</td>\n",
       "      <td>2RqrWplViWHSGLzlhmDcbt</td>\n",
       "      <td>2017-10-02</td>\n",
       "    </tr>\n",
       "  </tbody>\n",
       "</table>\n",
       "</div>"
      ],
      "text/plain": [
       "                  name                                   uri  \\\n",
       "0      Throwing Stones  spotify:track:7mefpx8BrcYNpl7nV5Jr6h   \n",
       "1               Better  spotify:track:7iCbeEbIEFbCP559GvoyYL   \n",
       "2        2 Cool 2 Care  spotify:track:7678cIG4ozfGo5CnVG3YwH   \n",
       "3  I Miss That Feeling  spotify:track:42XZcWNSbZCPQarEodiHbi   \n",
       "4  drink i'm sippin on  spotify:track:5DmCLnojsZpi5SH2MMBDOW   \n",
       "\n",
       "                       id artist_name               artist_id release_date  \n",
       "0  7mefpx8BrcYNpl7nV5Jr6h       Ardyn  4Ibjhh0sibd5FrMcot5aOu   2017-08-17  \n",
       "1  7iCbeEbIEFbCP559GvoyYL     Mallrat  4OSArit7O2Jaj4mgf3YN7A   2017-10-13  \n",
       "2  7678cIG4ozfGo5CnVG3YwH  Anna Burch  26OB2jqYqL7pNslVtu4VGt   2017-10-12  \n",
       "3  42XZcWNSbZCPQarEodiHbi      Tennis  1ybAN3utgdoUL1MUCtH4QM   2017-10-06  \n",
       "4  5DmCLnojsZpi5SH2MMBDOW       Yaeji  2RqrWplViWHSGLzlhmDcbt   2017-10-02  "
      ]
     },
     "execution_count": 26,
     "metadata": {},
     "output_type": "execute_result"
    }
   ],
   "source": [
    "from spotify_jpc import playlist\n",
    "reload(playlist)\n",
    "\n",
    "pl_tracks_df = playlist.make_playlist_tracks_df(playlist_id=\"78twiJHUxmr1JcmCI943fn\")\n",
    "pl_tracks_df.head()"
   ]
  },
  {
   "cell_type": "markdown",
   "metadata": {},
   "source": [
    "#### Make a list of all the track dictionaries in a playlist (gotten by name). Again, only up to 100 tracks\n",
    "\n",
    "If you don't pass a playlist_id it'll just default to one of my singles playlists"
   ]
  },
  {
   "cell_type": "code",
   "execution_count": null,
   "metadata": {},
   "outputs": [],
   "source": [
    "from spotify_jpc import playlist\n",
    "\n",
    "track_list = playlist.get_playlist_tracks()"
   ]
  }
 ],
 "metadata": {
  "kernelspec": {
   "display_name": "spotify_env",
   "language": "python",
   "name": "spotify_env"
  },
  "language_info": {
   "codemirror_mode": {
    "name": "ipython",
    "version": 3
   },
   "file_extension": ".py",
   "mimetype": "text/x-python",
   "name": "python",
   "nbconvert_exporter": "python",
   "pygments_lexer": "ipython3",
   "version": "3.8.2"
  }
 },
 "nbformat": 4,
 "nbformat_minor": 4
}
