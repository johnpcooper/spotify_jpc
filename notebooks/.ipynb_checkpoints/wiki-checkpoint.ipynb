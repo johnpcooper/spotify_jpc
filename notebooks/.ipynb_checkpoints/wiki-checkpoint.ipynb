{
 "cells": [
  {
   "cell_type": "markdown",
   "metadata": {},
   "source": [
    "## spotify_jpc\n",
    "\n",
    "This a package is essentially a set of wrappers around the spotify python api package [spotipy](https://spotipy.readthedocs.io/en/2.12.0/#). spotify_jpc faciliates command line scripting with autohotkey, letting me create hotkeys to get spotify search results, control playback, and manage playlist content, etc."
   ]
  },
  {
   "cell_type": "markdown",
   "metadata": {},
   "source": [
    "### Utilities (utilities.py)"
   ]
  },
  {
   "cell_type": "code",
   "execution_count": null,
   "metadata": {},
   "outputs": [],
   "source": [
    "from spotify_jpc import utilities\n",
    "# Most functions I've written that instatiate a client or user\n",
    "# spotify object will include the set_env_vars line to make sure \n",
    "# that python knows my client_id and other params stored in \n",
    "# constants.py\n",
    "\n",
    "# Get the first track uri returned in search for clipboard\n",
    "clipboard_uri = utilities.get_clipboard_uri()"
   ]
  },
  {
   "cell_type": "markdown",
   "metadata": {},
   "source": [
    "### Track tools (track.py)"
   ]
  },
  {
   "cell_type": "markdown",
   "metadata": {},
   "source": [
    "#### Get a DataFrame of the 50 most recently played tracks. \n",
    "Can also pass a `track_dicts` list to `track.tracks_df()`as a kwarg. For example, get a `track_dicts` list from `playlist.get_playlist_tracks()`. To get a list of artist_ids for a track at row, use `tracks_df.loc[row, "
   ]
  },
  {
   "cell_type": "code",
   "execution_count": 1,
   "metadata": {},
   "outputs": [
    {
     "data": {
      "text/html": [
       "<div>\n",
       "<style scoped>\n",
       "    .dataframe tbody tr th:only-of-type {\n",
       "        vertical-align: middle;\n",
       "    }\n",
       "\n",
       "    .dataframe tbody tr th {\n",
       "        vertical-align: top;\n",
       "    }\n",
       "\n",
       "    .dataframe thead th {\n",
       "        text-align: right;\n",
       "    }\n",
       "</style>\n",
       "<table border=\"1\" class=\"dataframe\">\n",
       "  <thead>\n",
       "    <tr style=\"text-align: right;\">\n",
       "      <th></th>\n",
       "      <th>name</th>\n",
       "      <th>uri</th>\n",
       "      <th>id</th>\n",
       "      <th>artist_name</th>\n",
       "      <th>artist_id</th>\n",
       "      <th>release_date</th>\n",
       "      <th>played_at</th>\n",
       "    </tr>\n",
       "  </thead>\n",
       "  <tbody>\n",
       "    <tr>\n",
       "      <th>0</th>\n",
       "      <td>What You Know Bout Love</td>\n",
       "      <td>spotify:track:1tkg4EHVoqnhR6iFEXb60y</td>\n",
       "      <td>1tkg4EHVoqnhR6iFEXb60y</td>\n",
       "      <td>Pop Smoke</td>\n",
       "      <td>0eDvMgVFoNV3TpwtrVCoTj</td>\n",
       "      <td>2020-07-03</td>\n",
       "      <td>2020-07-11 12:29:17.276000+00:00</td>\n",
       "    </tr>\n",
       "    <tr>\n",
       "      <th>1</th>\n",
       "      <td>Something Special</td>\n",
       "      <td>spotify:track:5kkaSMcf4BFlhRRICCKZb6</td>\n",
       "      <td>5kkaSMcf4BFlhRRICCKZb6</td>\n",
       "      <td>Pop Smoke</td>\n",
       "      <td>0eDvMgVFoNV3TpwtrVCoTj</td>\n",
       "      <td>2020-07-03</td>\n",
       "      <td>2020-07-11 12:26:37.293000+00:00</td>\n",
       "    </tr>\n",
       "    <tr>\n",
       "      <th>2</th>\n",
       "      <td>Mood Swings (feat. Lil Tjay)</td>\n",
       "      <td>spotify:track:5rZlwNFl01HqLWBQGryKSm</td>\n",
       "      <td>5rZlwNFl01HqLWBQGryKSm</td>\n",
       "      <td>Pop Smoke|Lil Tjay</td>\n",
       "      <td>0eDvMgVFoNV3TpwtrVCoTj|6jGMq4yGs7aQzuGsMgVgZR</td>\n",
       "      <td>2020-07-03</td>\n",
       "      <td>2020-07-11 12:22:18.833000+00:00</td>\n",
       "    </tr>\n",
       "    <tr>\n",
       "      <th>3</th>\n",
       "      <td>Enjoy Yourself (feat. Karol G)</td>\n",
       "      <td>spotify:track:3NWrHCwvyII4fTx05PN3IO</td>\n",
       "      <td>3NWrHCwvyII4fTx05PN3IO</td>\n",
       "      <td>Pop Smoke|KAROL G</td>\n",
       "      <td>0eDvMgVFoNV3TpwtrVCoTj|790FomKkXshlbRYZFtlgla</td>\n",
       "      <td>2020-07-03</td>\n",
       "      <td>2020-07-11 12:18:45.511000+00:00</td>\n",
       "    </tr>\n",
       "    <tr>\n",
       "      <th>4</th>\n",
       "      <td>West Coast Shit (feat. Tyga &amp; Quavo)</td>\n",
       "      <td>spotify:track:1JDhNQ0oOT7XpclZn3aQ8F</td>\n",
       "      <td>1JDhNQ0oOT7XpclZn3aQ8F</td>\n",
       "      <td>Pop Smoke|Tyga|Quavo</td>\n",
       "      <td>0eDvMgVFoNV3TpwtrVCoTj|5LHRHt1k9lMyONurDHEdrp|...</td>\n",
       "      <td>2020-07-03</td>\n",
       "      <td>2020-07-11 12:11:10.262000+00:00</td>\n",
       "    </tr>\n",
       "  </tbody>\n",
       "</table>\n",
       "</div>"
      ],
      "text/plain": [
       "                                   name                                   uri  \\\n",
       "0               What You Know Bout Love  spotify:track:1tkg4EHVoqnhR6iFEXb60y   \n",
       "1                     Something Special  spotify:track:5kkaSMcf4BFlhRRICCKZb6   \n",
       "2          Mood Swings (feat. Lil Tjay)  spotify:track:5rZlwNFl01HqLWBQGryKSm   \n",
       "3        Enjoy Yourself (feat. Karol G)  spotify:track:3NWrHCwvyII4fTx05PN3IO   \n",
       "4  West Coast Shit (feat. Tyga & Quavo)  spotify:track:1JDhNQ0oOT7XpclZn3aQ8F   \n",
       "\n",
       "                       id           artist_name  \\\n",
       "0  1tkg4EHVoqnhR6iFEXb60y             Pop Smoke   \n",
       "1  5kkaSMcf4BFlhRRICCKZb6             Pop Smoke   \n",
       "2  5rZlwNFl01HqLWBQGryKSm    Pop Smoke|Lil Tjay   \n",
       "3  3NWrHCwvyII4fTx05PN3IO     Pop Smoke|KAROL G   \n",
       "4  1JDhNQ0oOT7XpclZn3aQ8F  Pop Smoke|Tyga|Quavo   \n",
       "\n",
       "                                           artist_id release_date  \\\n",
       "0                             0eDvMgVFoNV3TpwtrVCoTj   2020-07-03   \n",
       "1                             0eDvMgVFoNV3TpwtrVCoTj   2020-07-03   \n",
       "2      0eDvMgVFoNV3TpwtrVCoTj|6jGMq4yGs7aQzuGsMgVgZR   2020-07-03   \n",
       "3      0eDvMgVFoNV3TpwtrVCoTj|790FomKkXshlbRYZFtlgla   2020-07-03   \n",
       "4  0eDvMgVFoNV3TpwtrVCoTj|5LHRHt1k9lMyONurDHEdrp|...   2020-07-03   \n",
       "\n",
       "                         played_at  \n",
       "0 2020-07-11 12:29:17.276000+00:00  \n",
       "1 2020-07-11 12:26:37.293000+00:00  \n",
       "2 2020-07-11 12:22:18.833000+00:00  \n",
       "3 2020-07-11 12:18:45.511000+00:00  \n",
       "4 2020-07-11 12:11:10.262000+00:00  "
      ]
     },
     "execution_count": 1,
     "metadata": {},
     "output_type": "execute_result"
    }
   ],
   "source": [
    "from spotify_jpc import track\n",
    "\n",
    "tracks_df = track.tracks_df()\n",
    "tracks_df.head()"
   ]
  },
  {
   "cell_type": "markdown",
   "metadata": {},
   "source": [
    "### Listening history etc. (database.py)"
   ]
  },
  {
   "cell_type": "code",
   "execution_count": null,
   "metadata": {},
   "outputs": [],
   "source": [
    "from importlib import reload\n",
    "from spotify_jpc import utilities, playlist, track"
   ]
  },
  {
   "cell_type": "markdown",
   "metadata": {},
   "source": [
    "### Playback tools (playback.py)"
   ]
  },
  {
   "cell_type": "markdown",
   "metadata": {},
   "source": [
    "#### Search spotify for whatever's on the os clipboard and play the first track in results"
   ]
  },
  {
   "cell_type": "code",
   "execution_count": null,
   "metadata": {},
   "outputs": [],
   "source": [
    "from spotify_jpc import playback\n",
    "\n",
    "playback.play_clipboard()"
   ]
  },
  {
   "cell_type": "markdown",
   "metadata": {},
   "source": [
    "#### Get the currently playing track"
   ]
  },
  {
   "cell_type": "code",
   "execution_count": null,
   "metadata": {},
   "outputs": [],
   "source": [
    "from spotify_jpc import playback\n",
    "track = playback.get_current_track()"
   ]
  },
  {
   "cell_type": "markdown",
   "metadata": {},
   "source": [
    "### Playlist tools (playlist.py)"
   ]
  },
  {
   "cell_type": "markdown",
   "metadata": {},
   "source": [
    "#### Add the currently playing track to the singles playlist for its release month"
   ]
  },
  {
   "cell_type": "code",
   "execution_count": null,
   "metadata": {},
   "outputs": [],
   "source": [
    "from spotify_jpc import playlist\n",
    "playlist.add_current_track_to_playlist()"
   ]
  },
  {
   "cell_type": "markdown",
   "metadata": {},
   "source": [
    "#### Make a dataframe of the user's playlists including tracks. Limited by spotify api to 50 top playlists (ones organized in folders closest to top)"
   ]
  },
  {
   "cell_type": "code",
   "execution_count": null,
   "metadata": {},
   "outputs": [],
   "source": [
    "from spotify_jpc import playlist\n",
    "from importlib import reload\n",
    "reload(playlist)\n",
    "\n",
    "pldf = playlist.make_playlists_df()\n",
    "pldf.to_csv('playlists_df.csv', index=False)\n",
    "pldf.head()"
   ]
  },
  {
   "cell_type": "markdown",
   "metadata": {},
   "source": [
    "#### Update playlist database with the 50 user playlists organized at top. \n",
    "Adds playlist name, uri, and id. This database can be used to more easily get playlists by name."
   ]
  },
  {
   "cell_type": "code",
   "execution_count": null,
   "metadata": {},
   "outputs": [],
   "source": [
    "from spotify_jpc import playlist\n",
    "playlist.update_database()"
   ]
  },
  {
   "cell_type": "code",
   "execution_count": null,
   "metadata": {},
   "outputs": [],
   "source": [
    "# Have a look at the existing database\n",
    "from spotify_jpc import playlist\n",
    "db = playlist.database()\n",
    "db.head()"
   ]
  },
  {
   "cell_type": "markdown",
   "metadata": {},
   "source": [
    "#### Get user playlist by name"
   ]
  },
  {
   "cell_type": "code",
   "execution_count": null,
   "metadata": {
    "scrolled": false
   },
   "outputs": [],
   "source": [
    "from spotify_jpc import playlist\n",
    "# Look up the playlist\n",
    "pl = playlist.get_playlist_by_name(playlist_name='2020 May')\n",
    "# Find the first track on the playlist, print its\n",
    "# name and artist.\n",
    "first_track = pl['tracks']['items'][0]['track']\n",
    "print(f\"First track of playlist: {first_track['name']} by {first_track['artists'][0]['name']}\")"
   ]
  },
  {
   "cell_type": "markdown",
   "metadata": {},
   "source": [
    "#### Create a new playlist and add it to `playlist.database()`"
   ]
  },
  {
   "cell_type": "code",
   "execution_count": null,
   "metadata": {
    "scrolled": true
   },
   "outputs": [],
   "source": [
    "from spotify_jpc import playlist\n",
    "playlist.new_playlist(public=True)"
   ]
  },
  {
   "cell_type": "markdown",
   "metadata": {},
   "source": [
    "#### Make a dataframe of all tracks (up to length 100, limited by spotify api) on a playlist. Playlist gotten by ID\n",
    "\n",
    "If you don't pass a playlist_id it'll just default to one of my singles playlists"
   ]
  },
  {
   "cell_type": "code",
   "execution_count": null,
   "metadata": {},
   "outputs": [],
   "source": [
    "from spotify_jpc import playlist\n",
    "reload(playlist)\n",
    "\n",
    "pl_tracks_df = playlist.make_playlist_tracks_df(playlist_id=\"78twiJHUxmr1JcmCI943fn\")\n",
    "pl_tracks_df.head()"
   ]
  },
  {
   "cell_type": "markdown",
   "metadata": {},
   "source": [
    "#### Make a list of all the track dictionaries in a playlist (gotten by name). Again, only up to 100 tracks\n",
    "\n",
    "If you don't pass a playlist_id it'll just default to one of my singles playlists"
   ]
  },
  {
   "cell_type": "code",
   "execution_count": null,
   "metadata": {},
   "outputs": [],
   "source": [
    "from spotify_jpc import playlist\n",
    "db = playlist.database()\n",
    "track_list = playlist.get_playlist_tracks(playlist_id=db.set_index('name').loc['2020 June', 'id'])"
   ]
  },
  {
   "cell_type": "code",
   "execution_count": null,
   "metadata": {},
   "outputs": [],
   "source": [
    "total = len(track_list)\n",
    "singles = []\n",
    "for track in track_list:\n",
    "    atype = track['album']['album_type']\n",
    "    if atype == 'single':\n",
    "        singles.append(track)\n",
    "    else:\n",
    "        pass\n",
    "    \n",
    "if total == len(singles):\n",
    "    print(\"All tracks are singles\")"
   ]
  },
  {
   "cell_type": "markdown",
   "metadata": {},
   "source": [
    "#### Make a playlist with all the singles released from artists of interest in the last <time_window> days"
   ]
  },
  {
   "cell_type": "code",
   "execution_count": null,
   "metadata": {
    "scrolled": true
   },
   "outputs": [],
   "source": [
    "from spotify_jpc import playlist\n",
    "from importlib import reload\n",
    "reload(playlist)\n",
    "playlist.update_singles_playlists(n_artists=3, time_window=100)"
   ]
  },
  {
   "cell_type": "markdown",
   "metadata": {},
   "source": [
    "### Artist tools (artist.py)"
   ]
  },
  {
   "cell_type": "markdown",
   "metadata": {},
   "source": [
    "#### Create a dataframe of the 20 latest albums of type single from an artist"
   ]
  },
  {
   "cell_type": "code",
   "execution_count": null,
   "metadata": {},
   "outputs": [],
   "source": [
    "from spotify_jpc import artist\n",
    "from importlib import reload\n",
    "reload(artist)\n",
    "singles_df = artist.singles_df(artist_name='Migos')\n",
    "singles_df.head()"
   ]
  },
  {
   "cell_type": "markdown",
   "metadata": {},
   "source": [
    "#### Create a dataframe containing the 20 most recent singles for every first artist featured in playlist.dataframe()"
   ]
  },
  {
   "cell_type": "code",
   "execution_count": null,
   "metadata": {},
   "outputs": [],
   "source": [
    "from spotify_jpc import artist\n",
    "df = artist.all_artists_singles_df()\n",
    "df.head()"
   ]
  },
  {
   "cell_type": "markdown",
   "metadata": {},
   "source": [
    "### Modify playlist.add_track_to_playlist() so that it checks whether playlist length == 100. If so start a new playlist (original_playlist B or something)."
   ]
  },
  {
   "cell_type": "markdown",
   "metadata": {},
   "source": [
    "### Need to add controls for seeking in track. Will replace shift + left/right arrow to seek in track, which currently requires spotify to be the active window. "
   ]
  },
  {
   "cell_type": "markdown",
   "metadata": {},
   "source": [
    "### Integration with feedly api"
   ]
  }
 ],
 "metadata": {
  "kernelspec": {
   "display_name": ".spotify",
   "language": "python",
   "name": ".spotify"
  },
  "language_info": {
   "codemirror_mode": {
    "name": "ipython",
    "version": 3
   },
   "file_extension": ".py",
   "mimetype": "text/x-python",
   "name": "python",
   "nbconvert_exporter": "python",
   "pygments_lexer": "ipython3",
   "version": "3.8.2"
  }
 },
 "nbformat": 4,
 "nbformat_minor": 4
}
