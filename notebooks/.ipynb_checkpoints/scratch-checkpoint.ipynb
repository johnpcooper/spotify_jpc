{
 "cells": [
  {
   "cell_type": "code",
   "execution_count": 87,
   "metadata": {},
   "outputs": [],
   "source": [
    "from importlib import reload\n",
    "from datetime import datetime\n",
    "import pandas as pd\n",
    "from spotify_jpc import constants, utilities, playback, database\n",
    "\n",
    "for mod in [constants, utilities, playback, database]:\n",
    "    reload(mod)"
   ]
  },
  {
   "cell_type": "code",
   "execution_count": 88,
   "metadata": {},
   "outputs": [
    {
     "name": "stdout",
     "output_type": "stream",
     "text": [
      "Found df at: /home/johnpcooper/projects/spotify_jpc/spotify_jpc/track_history_df.json\n",
      "Found df at: /home/johnpcooper/projects/spotify_jpc/spotify_jpc/temp_history_df.json\n",
      "Adding 4 new tracks to history\n"
     ]
    }
   ],
   "source": [
    "database.merge_track_histories()"
   ]
  }
 ],
 "metadata": {
  "kernelspec": {
   "display_name": ".spotify",
   "language": "python",
   "name": ".spotify"
  },
  "language_info": {
   "codemirror_mode": {
    "name": "ipython",
    "version": 3
   },
   "file_extension": ".py",
   "mimetype": "text/x-python",
   "name": "python",
   "nbconvert_exporter": "python",
   "pygments_lexer": "ipython3",
   "version": "3.8.2"
  }
 },
 "nbformat": 4,
 "nbformat_minor": 4
}
